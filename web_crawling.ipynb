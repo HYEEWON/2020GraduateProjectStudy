{
 "cells": [
  {
   "cell_type": "code",
   "execution_count": 7,
   "metadata": {},
   "outputs": [],
   "source": [
    "from urllib.request import urlopen #url read\n",
    "from urllib.request import urlretrieve # downloda crawling image\n",
    "from urllib.parse import quote_plus #한글 키워드 입력\n",
    "from bs4 import BeautifulSoup\n",
    "from selenium import webdriver"
   ]
  },
  {
   "cell_type": "code",
   "execution_count": 10,
   "metadata": {},
   "outputs": [
    {
     "name": "stdout",
     "output_type": "stream",
     "text": [
      "연예인 red lip\n"
     ]
    }
   ],
   "source": [
    "search = input() # 검색창 만들기\n",
    "url = f'https://www.google.com/search?q={quote_plus(search)}&sxsrf=ALeKk03ppIWQCo3HTVJWY0zIGz_6vTctEg:1597195903232&source=lnms&tbm=isch&sa=X&ved=2ahUKEwjtq8uzwpTrAhXsDaYKHf3wA9EQ_AUoAXoECAwQAw&biw=802&bih=712'\n",
    "        \n",
    "driver = webdriver.Chrome(\"C:/Users/user/chromedriver_win32/chromedriver.exe\")\n",
    "driver.get(url)\n",
    "\n",
    "for _ in range(500):\n",
    "    driver.execute_script(\"window.scrollBy(0,10000)\")\n",
    "    \n",
    "html = driver.page_source\n",
    "soup = BeautifulSoup(html)\n",
    "\n",
    "img = soup.select('.rg_i.Q4LuWd')\n",
    "imgurl = []\n",
    "n = 946\n",
    "for i in img:\n",
    "    try:\n",
    "        imgurl.append(i.attrs[\"src\"])\n",
    "    except KeyError:\n",
    "        imgurl.append(i.attrs[\"data-src\"])\n",
    "        \n",
    "for i in imgurl:\n",
    "    urlretrieve(i, \"train_red/red_lip_\"+str(n)+'.jpg')\n",
    "    n += 1"
   ]
  },
  {
   "cell_type": "code",
   "execution_count": null,
   "metadata": {},
   "outputs": [],
   "source": []
  }
 ],
 "metadata": {
  "kernelspec": {
   "display_name": "py1",
   "language": "python",
   "name": "py1"
  },
  "language_info": {
   "codemirror_mode": {
    "name": "ipython",
    "version": 3
   },
   "file_extension": ".py",
   "mimetype": "text/x-python",
   "name": "python",
   "nbconvert_exporter": "python",
   "pygments_lexer": "ipython3",
   "version": "3.6.10"
  }
 },
 "nbformat": 4,
 "nbformat_minor": 2
}
